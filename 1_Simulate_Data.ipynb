{
 "cells": [
  {
   "cell_type": "markdown",
   "id": "constitutional-unemployment",
   "metadata": {},
   "source": [
    "# About these notebooks\n",
    "\n",
    "These three notebooks can be run to replicate the dataset, XGBoost model and results from the tree-based structure prediction. The notebooks save and load data in local folders in the Metalfinder_restructured folder. The first notebook simulates the metal clusters and PDFs. The second notebook trains an XGBoost model. The third notebook tests the XGBoost model and here the model can be used to predict the structure of experimental PDFs.\n",
    "\n",
    "# Simulate Data\n",
    "\n",
    "This notebook simulates clusters and pair distribution function datasets\n",
    "\n",
    "**How to use:** Run the cells underneath from top to bottom \n",
    "\n",
    "The first cell imports packages and functions from the backend. The python packages Atomic Simulation Environment (ASE)*(1)* and DiffPy-CMI*(2)* are used to simulate data.\n",
    "\n",
    "The second cell simulates metal clusters of seven different structure types (MMNPs) and saves them in a custom folder in /xyz_files/. \n",
    "\n",
    "The third cell simulates Atomic Pair Distribution functions from the metal clusters and saves them in a custom folder in /PDF_datasets/. This dataset can be loaded in \"2_Training.ipynb\", where a Gradient Boosted Decision Tree model can be trained to predict the MMNPs from a PDF."
   ]
  },
  {
   "cell_type": "markdown",
   "id": "cubic-abuse",
   "metadata": {},
   "source": [
    "# Import packages and functions from backend"
   ]
  },
  {
   "cell_type": "code",
   "execution_count": 1,
   "id": "ultimate-region",
   "metadata": {},
   "outputs": [],
   "source": [
    "import sys, os, os.path, h5py, time, shutil, mendeleev\n",
    "import pandas as pd\n",
    "import numpy as np\n",
    "\n",
    "from os import walk\n",
    "from tqdm import tqdm\n",
    "from shutil import copyfile\n",
    "from scipy import spatial\n",
    "\n",
    "from multiprocessing import Pool\n",
    "from diffpy.srreal.pdfcalculator import DebyePDFCalculator, PDFCalculator\n",
    "from diffpy.Structure import loadStructure, Structure, Lattice, Atom\n",
    "\n",
    "from diffpy.Structure import Structure\n",
    "from diffpy.Structure import Atom\n",
    "from diffpy.Structure import loadStructure, Structure, Lattice\n",
    "\n",
    "from ase.data import covalent_radii, atomic_numbers, chemical_symbols\n",
    "from ase.cluster.cubic import FaceCenteredCubic, BodyCenteredCubic, SimpleCubic\n",
    "from ase.lattice.hexagonal import Hexagonal, HexagonalClosedPacked, Graphite\n",
    "from ase.cluster.decahedron import Decahedron\n",
    "from ase.cluster.icosahedron import Icosahedron\n",
    "from ase.cluster.octahedron import Octahedron\n",
    "\n",
    "sys.path.append(\"Backend\")\n",
    "\n",
    "from simulate_data import get_simulate_data_backend, PDF_generator, sort_filenames, make_df_parallelized, PDF_from_index, reduce_mem_usage, save_PDFs, make_data, make_data_SC_FCC_BCC, make_data_HCP, make_data_Icosahedron, make_data_Decahedron, make_data_Octahedron, new_structure_checker, remove_same_structures, structure_maker, remove_dub, simulate_clusters   \n",
    "PDF_obj, sorted_filenames_flat, xyz_path = get_simulate_data_backend() #Put the rest of the returned stuff in later"
   ]
  },
  {
   "cell_type": "markdown",
   "id": "worldwide-browser",
   "metadata": {},
   "source": [
    "## Simulate metal clusters\n",
    "\n",
    "This simulates metal clusters of different sizes and structure types, then checks for and deletes duplicates. The metal clusters are saved in a specified folder_name in the \"xyz_files/\" folder."
   ]
  },
  {
   "cell_type": "code",
   "execution_count": null,
   "id": "peripheral-inclusion",
   "metadata": {},
   "outputs": [],
   "source": [
    "folder_name = \"natoms200\"\n",
    "simulate_clusters(folder_name, maximum_atoms = 200, minimum_atoms = 6)"
   ]
  },
  {
   "cell_type": "markdown",
   "id": "under-duncan",
   "metadata": {},
   "source": [
    "## Simulate PDF dataset from metal clusters\n",
    "\n",
    "This simulates atomic pair distribution functions from each metallic nanoparticle cluster. The size of the dataset can be controlled with train_multip and valtest_multip. train_multip determines how many pair distributions are simulated from each metal cluster in the training set. valtest_multip is similar, but with the validation and test set. In the article, train_multip = 100 and valtest_multip = 15 is used. threads specifies how many CPU cores are used."
   ]
  },
  {
   "cell_type": "code",
   "execution_count": 2,
   "id": "27337230",
   "metadata": {},
   "outputs": [
    {
     "name": "stderr",
     "output_type": "stream",
     "text": [
      "Global seed set to 37\n"
     ]
    }
   ],
   "source": [
    "#Set seeds\n",
    "import torch, random\n",
    "import pytorch_lightning as pl\n",
    "import numpy as np\n",
    "seed = 37\n",
    "torch.manual_seed(seed)\n",
    "pl.seed_everything(seed)\n",
    "np.random.seed(seed)\n",
    "random.seed(seed)"
   ]
  },
  {
   "cell_type": "code",
   "execution_count": 3,
   "id": "french-northern",
   "metadata": {
    "scrolled": false
   },
   "outputs": [
    {
     "name": "stdout",
     "output_type": "stream",
     "text": [
      "Making PDF dataset from the clusters in xyz_files/natoms200/.\n",
      "The training set will have 100 PDFs from each cluster and the validation and test set will have 15 PDFs from each cluster\n",
      "Multithreading: 64 processes\n"
     ]
    },
    {
     "name": "stderr",
     "output_type": "stream",
     "text": [
      "Backend/simulate_data.py:189: SettingWithCopyWarning: \n",
      "A value is trying to be set on a copy of a slice from a DataFrame.\n",
      "Try using .loc[row_indexer,col_indexer] = value instead\n",
      "\n",
      "See the caveats in the documentation: https://pandas.pydata.org/pandas-docs/stable/user_guide/indexing.html#returning-a-view-versus-a-copy\n",
      "  df[col] = df[col].astype(np.float16)\n"
     ]
    },
    {
     "name": "stdout",
     "output_type": "stream",
     "text": [
      "df_train dimensions: 374300 rows X 304 columns\n",
      "df_val dimensions: 56145 rows X 304 columns\n",
      "df_test dimensions: 56145 rows X 304 columns\n",
      "Time spent on making PDFs and preparing dataframes: 9.71  min\n"
     ]
    }
   ],
   "source": [
    "folder_name = \"natoms200\"\n",
    "data_dir = \"xyz_files/\" + folder_name + \"/\"\n",
    "\n",
    "threads = 64\n",
    "X_train, y_train, X_val, y_val, X_test, y_test = make_df_parallelized(sorted_filenames_flat, train_multip = 100, valtest_multip = 15, n_processes = threads, xyz_path = data_dir)"
   ]
  },
  {
   "cell_type": "markdown",
   "id": "mathematical-divide",
   "metadata": {},
   "source": [
    "## Save PDF dataset\n",
    "\n",
    "This saves the datasets in the specified folder in \"PDF_datasets/\". These datasets can be loaded in 2_Training.ipynb where an XGBoost model can be trained on the datasets."
   ]
  },
  {
   "cell_type": "code",
   "execution_count": 4,
   "id": "oriental-shaft",
   "metadata": {},
   "outputs": [
    {
     "name": "stdout",
     "output_type": "stream",
     "text": [
      "PDF dataset saved to PDF_datasets/big_seed37/\n"
     ]
    }
   ],
   "source": [
    "folder_name = \"big_seed37\"\n",
    "save_PDFs(folder_name, X_train, y_train, X_val, y_val, X_test, y_test)"
   ]
  },
  {
   "cell_type": "markdown",
   "id": "e1bb5462",
   "metadata": {},
   "source": [
    "### References\n",
    "(1) Larsen, A. H.; Mortensen, J. J.; Blomqvist, J.; Castelli, I. E.; Christensen, R.; Dułak, M.; Friis, J.; Groves, M. N.; Hammer, B.; Hargus, C. The atomic simulation environment—a Python library for working with atoms. Journal of Physics: Condensed Matter 2017, 29 (27), 273002.\n",
    "\n",
    "(2) Billinge, S.; Juhas, P.; Farrow, C.; McKerns, M. DiffPy-CMI-Python libraries for Complex Modeling Initiative; Brookhaven National Lab.(BNL), Upton, NY (United States), 2014."
   ]
  }
 ],
 "metadata": {
  "kernelspec": {
   "display_name": "Python 3",
   "language": "python",
   "name": "python3"
  },
  "language_info": {
   "codemirror_mode": {
    "name": "ipython",
    "version": 3
   },
   "file_extension": ".py",
   "mimetype": "text/x-python",
   "name": "python",
   "nbconvert_exporter": "python",
   "pygments_lexer": "ipython3",
   "version": "3.7.10"
  }
 },
 "nbformat": 4,
 "nbformat_minor": 5
}
